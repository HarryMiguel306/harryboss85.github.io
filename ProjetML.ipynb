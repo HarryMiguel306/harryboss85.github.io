{
 "cells": [
  {
   "cell_type": "markdown",
   "id": "7ec39812",
   "metadata": {},
   "source": [
    "# Projet ML"
   ]
  },
  {
   "cell_type": "markdown",
   "id": "f261d992",
   "metadata": {},
   "source": [
    "### Les métadonnées"
   ]
  },
  {
   "cell_type": "markdown",
   "id": "3deae7b3",
   "metadata": {},
   "source": [
    "Les données (disponibles sous Kaggle) utilisées dans le cadre de ce TP sont des données\n",
    "réelles provenant d’une compagnie d’assurance américaine X et sont utiles pour prédire les\n",
    "primes d’assurance maladie d’un citoyen américain. En effet, de nombreux facteurs\n",
    "influencent le montant des primes d’assurance maladie fixées par les compagnies d’assurance\n",
    "et qui sont indépendants de la volonté des assurés. Entre autres facteurs influençant le coût\n",
    "des primes d'assurance maladie, nous avons :\n",
    "- L’âge du principal bénéficiaire (age)\n",
    "- Le sexe de l'assureur (sex)\n",
    "- L’indice de masse corporelle, permettant de comprendre le corps, les poids\n",
    "relativement élevés ou faibles par rapport à la taille, indice objectif de poids corporel\n",
    "(kg/m^2) utilisant le rapport taille/poids, idéalement 18,5 à 24,9 (bmi)\n",
    "- Le nombre d'enfants couverts par l'assurance maladie ou le nombre de personnes à\n",
    "charge (children)\n",
    "- Le statut de l’assuré par rapport au tabagisme, fumeur ou non (smoker)\n",
    "- La zone résidentielle du bénéficiaire aux États-Unis, nord-est, sud-est, sud-ouest,\n",
    "nord-ouest (region)\n",
    "- Les frais médicaux individuels (primes) facturés par l'assurance maladie (charges)\n",
    "En tant que responsable de la cellule Informatique Décisionnelle et Gestion de Portefeuille,\n",
    "vous disposez de données mises à disposition par le département IT pour proposer un\n",
    "système intelligent de prédiction des primes d’assurance de clients désirant souscrire à un\n",
    "produit d’assurance maladie auprès de la compagnie X."
   ]
  },
  {
   "cell_type": "markdown",
   "id": "0d7a3f15",
   "metadata": {},
   "source": [
    "## Partie 1: Analyse + Modele KNN de base"
   ]
  },
  {
   "cell_type": "markdown",
   "id": "bffb9fcd",
   "metadata": {},
   "source": [
    "###  Première description pour présenter les caractéristiques de la dataset"
   ]
  },
  {
   "cell_type": "code",
   "execution_count": 1,
   "id": "2e48860d",
   "metadata": {},
   "outputs": [],
   "source": [
    "#Importation des biblio\n",
    "import pandas as pd\n",
    "import numpy as np\n",
    "import matplotlib.pyplot as plt\n",
    "import seaborn as sns\n",
    "import sklearn"
   ]
  },
  {
   "cell_type": "code",
   "execution_count": 2,
   "id": "4603f7f9",
   "metadata": {},
   "outputs": [
    {
     "data": {
      "text/html": [
       "<div>\n",
       "<style scoped>\n",
       "    .dataframe tbody tr th:only-of-type {\n",
       "        vertical-align: middle;\n",
       "    }\n",
       "\n",
       "    .dataframe tbody tr th {\n",
       "        vertical-align: top;\n",
       "    }\n",
       "\n",
       "    .dataframe thead th {\n",
       "        text-align: right;\n",
       "    }\n",
       "</style>\n",
       "<table border=\"1\" class=\"dataframe\">\n",
       "  <thead>\n",
       "    <tr style=\"text-align: right;\">\n",
       "      <th></th>\n",
       "      <th>age</th>\n",
       "      <th>sex</th>\n",
       "      <th>bmi</th>\n",
       "      <th>children</th>\n",
       "      <th>smoker</th>\n",
       "      <th>region</th>\n",
       "      <th>charges</th>\n",
       "    </tr>\n",
       "  </thead>\n",
       "  <tbody>\n",
       "    <tr>\n",
       "      <th>0</th>\n",
       "      <td>19</td>\n",
       "      <td>female</td>\n",
       "      <td>27.900</td>\n",
       "      <td>0</td>\n",
       "      <td>yes</td>\n",
       "      <td>southwest</td>\n",
       "      <td>16884.92400</td>\n",
       "    </tr>\n",
       "    <tr>\n",
       "      <th>1</th>\n",
       "      <td>18</td>\n",
       "      <td>male</td>\n",
       "      <td>33.770</td>\n",
       "      <td>1</td>\n",
       "      <td>no</td>\n",
       "      <td>southeast</td>\n",
       "      <td>1725.55230</td>\n",
       "    </tr>\n",
       "    <tr>\n",
       "      <th>2</th>\n",
       "      <td>28</td>\n",
       "      <td>male</td>\n",
       "      <td>33.000</td>\n",
       "      <td>3</td>\n",
       "      <td>no</td>\n",
       "      <td>southeast</td>\n",
       "      <td>4449.46200</td>\n",
       "    </tr>\n",
       "    <tr>\n",
       "      <th>3</th>\n",
       "      <td>33</td>\n",
       "      <td>male</td>\n",
       "      <td>22.705</td>\n",
       "      <td>0</td>\n",
       "      <td>no</td>\n",
       "      <td>northwest</td>\n",
       "      <td>21984.47061</td>\n",
       "    </tr>\n",
       "    <tr>\n",
       "      <th>4</th>\n",
       "      <td>32</td>\n",
       "      <td>male</td>\n",
       "      <td>28.880</td>\n",
       "      <td>0</td>\n",
       "      <td>no</td>\n",
       "      <td>northwest</td>\n",
       "      <td>3866.85520</td>\n",
       "    </tr>\n",
       "  </tbody>\n",
       "</table>\n",
       "</div>"
      ],
      "text/plain": [
       "   age     sex     bmi  children smoker     region      charges\n",
       "0   19  female  27.900         0    yes  southwest  16884.92400\n",
       "1   18    male  33.770         1     no  southeast   1725.55230\n",
       "2   28    male  33.000         3     no  southeast   4449.46200\n",
       "3   33    male  22.705         0     no  northwest  21984.47061\n",
       "4   32    male  28.880         0     no  northwest   3866.85520"
      ]
     },
     "execution_count": 2,
     "metadata": {},
     "output_type": "execute_result"
    }
   ],
   "source": [
    "#Importation et chargement du dataset et affichage des 5 premieres lignes\n",
    "data = pd.read_excel('C:/Users/Miguel/Downloads/Insurance-data.xlsx')\n",
    "data.head()"
   ]
  },
  {
   "cell_type": "code",
   "execution_count": 3,
   "id": "704255f6",
   "metadata": {},
   "outputs": [
    {
     "name": "stdout",
     "output_type": "stream",
     "text": [
      "<class 'pandas.core.frame.DataFrame'>\n",
      "RangeIndex: 1000 entries, 0 to 999\n",
      "Data columns (total 7 columns):\n",
      " #   Column    Non-Null Count  Dtype  \n",
      "---  ------    --------------  -----  \n",
      " 0   age       1000 non-null   int64  \n",
      " 1   sex       1000 non-null   object \n",
      " 2   bmi       1000 non-null   float64\n",
      " 3   children  1000 non-null   int64  \n",
      " 4   smoker    1000 non-null   object \n",
      " 5   region    1000 non-null   object \n",
      " 6   charges   1000 non-null   float64\n",
      "dtypes: float64(2), int64(2), object(3)\n",
      "memory usage: 54.8+ KB\n"
     ]
    }
   ],
   "source": [
    "data.info()"
   ]
  },
  {
   "cell_type": "markdown",
   "id": "d195fa8d",
   "metadata": {},
   "source": [
    "En gros, on vient d'afficher les informations sur le dataset. Pour résumer, on a 1000 lignes et pour chaque variables, 1000 valeurs non nuls. Nous avons aussi quatre (04) variables quantitatives et trois (03) variables qualitatives."
   ]
  },
  {
   "cell_type": "markdown",
   "id": "861efa42",
   "metadata": {},
   "source": [
    "### Analyse descriptive univariée des variables quantitatives"
   ]
  },
  {
   "cell_type": "code",
   "execution_count": 4,
   "id": "1e03eef7",
   "metadata": {},
   "outputs": [
    {
     "data": {
      "text/html": [
       "<div>\n",
       "<style scoped>\n",
       "    .dataframe tbody tr th:only-of-type {\n",
       "        vertical-align: middle;\n",
       "    }\n",
       "\n",
       "    .dataframe tbody tr th {\n",
       "        vertical-align: top;\n",
       "    }\n",
       "\n",
       "    .dataframe thead th {\n",
       "        text-align: right;\n",
       "    }\n",
       "</style>\n",
       "<table border=\"1\" class=\"dataframe\">\n",
       "  <thead>\n",
       "    <tr style=\"text-align: right;\">\n",
       "      <th></th>\n",
       "      <th>age</th>\n",
       "      <th>bmi</th>\n",
       "      <th>children</th>\n",
       "      <th>charges</th>\n",
       "    </tr>\n",
       "  </thead>\n",
       "  <tbody>\n",
       "    <tr>\n",
       "      <th>count</th>\n",
       "      <td>1000.000000</td>\n",
       "      <td>1000.000000</td>\n",
       "      <td>1000.000000</td>\n",
       "      <td>1000.000000</td>\n",
       "    </tr>\n",
       "    <tr>\n",
       "      <th>mean</th>\n",
       "      <td>39.640000</td>\n",
       "      <td>30.865565</td>\n",
       "      <td>1.080000</td>\n",
       "      <td>13099.629425</td>\n",
       "    </tr>\n",
       "    <tr>\n",
       "      <th>std</th>\n",
       "      <td>14.169586</td>\n",
       "      <td>6.046396</td>\n",
       "      <td>1.198765</td>\n",
       "      <td>11994.129978</td>\n",
       "    </tr>\n",
       "    <tr>\n",
       "      <th>min</th>\n",
       "      <td>18.000000</td>\n",
       "      <td>15.960000</td>\n",
       "      <td>0.000000</td>\n",
       "      <td>1121.873900</td>\n",
       "    </tr>\n",
       "    <tr>\n",
       "      <th>25%</th>\n",
       "      <td>27.000000</td>\n",
       "      <td>26.600000</td>\n",
       "      <td>0.000000</td>\n",
       "      <td>4719.683425</td>\n",
       "    </tr>\n",
       "    <tr>\n",
       "      <th>50%</th>\n",
       "      <td>40.000000</td>\n",
       "      <td>30.590000</td>\n",
       "      <td>1.000000</td>\n",
       "      <td>9286.850750</td>\n",
       "    </tr>\n",
       "    <tr>\n",
       "      <th>75%</th>\n",
       "      <td>52.000000</td>\n",
       "      <td>35.112500</td>\n",
       "      <td>2.000000</td>\n",
       "      <td>16073.095438</td>\n",
       "    </tr>\n",
       "    <tr>\n",
       "      <th>max</th>\n",
       "      <td>64.000000</td>\n",
       "      <td>50.380000</td>\n",
       "      <td>5.000000</td>\n",
       "      <td>63770.428010</td>\n",
       "    </tr>\n",
       "  </tbody>\n",
       "</table>\n",
       "</div>"
      ],
      "text/plain": [
       "               age          bmi     children       charges\n",
       "count  1000.000000  1000.000000  1000.000000   1000.000000\n",
       "mean     39.640000    30.865565     1.080000  13099.629425\n",
       "std      14.169586     6.046396     1.198765  11994.129978\n",
       "min      18.000000    15.960000     0.000000   1121.873900\n",
       "25%      27.000000    26.600000     0.000000   4719.683425\n",
       "50%      40.000000    30.590000     1.000000   9286.850750\n",
       "75%      52.000000    35.112500     2.000000  16073.095438\n",
       "max      64.000000    50.380000     5.000000  63770.428010"
      ]
     },
     "execution_count": 4,
     "metadata": {},
     "output_type": "execute_result"
    }
   ],
   "source": [
    "quantitatives = ['age', 'bmi', 'children', 'charges']\n",
    "data[quantitatives].describe()"
   ]
  },
  {
   "cell_type": "markdown",
   "id": "b358170c",
   "metadata": {},
   "source": [
    "##### Observation\n",
    "En gros, ici on accès au statistique descriptive des variables quantitatives de notre dataset. En gros nous avons le nombre de ligne non manquante, la moyenne, l'écartype, le minimum, le maximum, le premier et le troisieme quartile et la médiane de chaque variables."
   ]
  },
  {
   "cell_type": "markdown",
   "id": "2128e22d",
   "metadata": {},
   "source": [
    "### Une analyse descriptive univariée des variables qualitatives"
   ]
  },
  {
   "cell_type": "code",
   "execution_count": 5,
   "id": "c830243b",
   "metadata": {},
   "outputs": [
    {
     "data": {
      "text/html": [
       "<div>\n",
       "<style scoped>\n",
       "    .dataframe tbody tr th:only-of-type {\n",
       "        vertical-align: middle;\n",
       "    }\n",
       "\n",
       "    .dataframe tbody tr th {\n",
       "        vertical-align: top;\n",
       "    }\n",
       "\n",
       "    .dataframe thead th {\n",
       "        text-align: right;\n",
       "    }\n",
       "</style>\n",
       "<table border=\"1\" class=\"dataframe\">\n",
       "  <thead>\n",
       "    <tr style=\"text-align: right;\">\n",
       "      <th></th>\n",
       "      <th>sex</th>\n",
       "      <th>smoker</th>\n",
       "      <th>region</th>\n",
       "    </tr>\n",
       "  </thead>\n",
       "  <tbody>\n",
       "    <tr>\n",
       "      <th>count</th>\n",
       "      <td>1000</td>\n",
       "      <td>1000</td>\n",
       "      <td>1000</td>\n",
       "    </tr>\n",
       "    <tr>\n",
       "      <th>unique</th>\n",
       "      <td>2</td>\n",
       "      <td>2</td>\n",
       "      <td>4</td>\n",
       "    </tr>\n",
       "    <tr>\n",
       "      <th>top</th>\n",
       "      <td>male</td>\n",
       "      <td>no</td>\n",
       "      <td>southeast</td>\n",
       "    </tr>\n",
       "    <tr>\n",
       "      <th>freq</th>\n",
       "      <td>505</td>\n",
       "      <td>803</td>\n",
       "      <td>278</td>\n",
       "    </tr>\n",
       "  </tbody>\n",
       "</table>\n",
       "</div>"
      ],
      "text/plain": [
       "         sex smoker     region\n",
       "count   1000   1000       1000\n",
       "unique     2      2          4\n",
       "top     male     no  southeast\n",
       "freq     505    803        278"
      ]
     },
     "execution_count": 5,
     "metadata": {},
     "output_type": "execute_result"
    }
   ],
   "source": [
    "qualitatives = ['sex', 'smoker', 'region']\n",
    "data[qualitatives].describe()"
   ]
  },
  {
   "cell_type": "markdown",
   "id": "b7efa490",
   "metadata": {},
   "source": [
    "##### Observation\n",
    "En gros, ici on accès au statistique descriptive des variables qualitatives de notre dataset. En gros nous avons pour chaque variables, le nombre de valeur unique, la valeur la plus fréquente dans le dataset et la fréquence d'apparition de cette valeur là."
   ]
  },
  {
   "cell_type": "markdown",
   "id": "41b3dc86",
   "metadata": {},
   "source": [
    "### Une analyse descriptive bivariée entre la variable cible et les variables qualitatives avec un boxplot"
   ]
  },
  {
   "cell_type": "code",
   "execution_count": 6,
   "id": "2bea4c0f",
   "metadata": {},
   "outputs": [
    {
     "data": {
      "text/plain": [
       "<AxesSubplot:xlabel='sex', ylabel='charges'>"
      ]
     },
     "execution_count": 6,
     "metadata": {},
     "output_type": "execute_result"
    },
    {
     "data": {
      "image/png": "[encoded data removed]",
      "text/plain": [
       "<Figure size 640x480 with 1 Axes>"
      ]
     },
     "metadata": {},
     "output_type": "display_data"
    }
   ],
   "source": [
    "sns.boxplot(x='sex', y='charges', data=data, color='red')"
   ]
  },
  {
   "cell_type": "code",
   "execution_count": 7,
   "id": "f9248fcd",
   "metadata": {},
   "outputs": [
    {
     "data": {
      "text/plain": [
       "<AxesSubplot:xlabel='smoker', ylabel='charges'>"
      ]
     },
     "execution_count": 7,
     "metadata": {},
     "output_type": "execute_result"
    },
    {
     "data": {
      "image/png": "[encoded data removed]",
      "text/plain": [
       "<Figure size 640x480 with 1 Axes>"
      ]
     },
     "metadata": {},
     "output_type": "display_data"
    }
   ],
   "source": [
    "sns.boxplot(x='smoker', y='charges', data=data, color='green')"
   ]
  },
  {
   "cell_type": "code",
   "execution_count": 8,
   "id": "145f8dcd",
   "metadata": {},
   "outputs": [
    {
     "data": {
      "text/plain": [
       "<AxesSubplot:xlabel='region', ylabel='charges'>"
      ]
     },
     "execution_count": 8,
     "metadata": {},
     "output_type": "execute_result"
    },
    {
     "data": {
      "image/png": "[encoded data removed]",
      "text/plain": [
       "<Figure size 640x480 with 1 Axes>"
      ]
     },
     "metadata": {},
     "output_type": "display_data"
    }
   ],
   "source": [
    "sns.boxplot(x='region', y='charges', data=data)"
   ]
  },
  {
   "cell_type": "markdown",
   "id": "e8769b4a",
   "metadata": {},
   "source": [
    "Ici, on a juste montré la visualisation (avec des boxplot) de la relation entre la variable cible (charges) et les variables qualitatives (sex, region et smoker). On a aussi observé si je peux le dire des outliers."
   ]
  },
  {
   "cell_type": "markdown",
   "id": "0bac7970",
   "metadata": {},
   "source": [
    "### Une analyse descriptive bivariée entre la variable cible et les variables quantitatives à l'aide d'un scatterplot"
   ]
  },
  {
   "cell_type": "code",
   "execution_count": 9,
   "id": "f7be9336",
   "metadata": {},
   "outputs": [
    {
     "data": {
      "text/plain": [
       "<AxesSubplot:xlabel='age', ylabel='charges'>"
      ]
     },
     "execution_count": 9,
     "metadata": {},
     "output_type": "execute_result"
    },
    {
     "data": {
      "image/png": "[encoded data removed]",
      "text/plain": [
       "<Figure size 640x480 with 1 Axes>"
      ]
     },
     "metadata": {},
     "output_type": "display_data"
    }
   ],
   "source": [
    "sns.scatterplot(x='age', y='charges', data=data)"
   ]
  },
  {
   "cell_type": "code",
   "execution_count": 10,
   "id": "08d88589",
   "metadata": {},
   "outputs": [
    {
     "data": {
      "text/plain": [
       "<AxesSubplot:xlabel='bmi', ylabel='charges'>"
      ]
     },
     "execution_count": 10,
     "metadata": {},
     "output_type": "execute_result"
    },
    {
     "data": {
      "image/png": "[encoded data removed]",
      "text/plain": [
       "<Figure size 640x480 with 1 Axes>"
      ]
     },
     "metadata": {},
     "output_type": "display_data"
    }
   ],
   "source": [
    "sns.scatterplot(x='bmi', y='charges', data=data)"
   ]
  },
  {
   "cell_type": "code",
   "execution_count": 11,
   "id": "70175399",
   "metadata": {},
   "outputs": [
    {
     "data": {
      "text/plain": [
       "<AxesSubplot:xlabel='children', ylabel='charges'>"
      ]
     },
     "execution_count": 11,
     "metadata": {},
     "output_type": "execute_result"
    },
    {
     "data": {
      "image/png": "[encoded data removed]",
      "text/plain": [
       "<Figure size 640x480 with 1 Axes>"
      ]
     },
     "metadata": {},
     "output_type": "display_data"
    }
   ],
   "source": [
    "sns.scatterplot(x='children', y='charges', data=data)"
   ]
  },
  {
   "cell_type": "markdown",
   "id": "d9ae289b",
   "metadata": {},
   "source": [
    "Ici, on a juste montré la visualisation (avec des scatterplot) de la relation entre la variable cible (charges) et les variables quantitatives (age, bmi et children)."
   ]
  },
  {
   "cell_type": "markdown",
   "id": "b2aaf979",
   "metadata": {},
   "source": [
    "### Conception d'une matrice de corrélation entre les variables quantitatives de la base de données."
   ]
  },
  {
   "cell_type": "code",
   "execution_count": 12,
   "id": "b99c114a",
   "metadata": {},
   "outputs": [
    {
     "data": {
      "text/html": [
       "<div>\n",
       "<style scoped>\n",
       "    .dataframe tbody tr th:only-of-type {\n",
       "        vertical-align: middle;\n",
       "    }\n",
       "\n",
       "    .dataframe tbody tr th {\n",
       "        vertical-align: top;\n",
       "    }\n",
       "\n",
       "    .dataframe thead th {\n",
       "        text-align: right;\n",
       "    }\n",
       "</style>\n",
       "<table border=\"1\" class=\"dataframe\">\n",
       "  <thead>\n",
       "    <tr style=\"text-align: right;\">\n",
       "      <th></th>\n",
       "      <th>age</th>\n",
       "      <th>bmi</th>\n",
       "      <th>children</th>\n",
       "      <th>charges</th>\n",
       "    </tr>\n",
       "  </thead>\n",
       "  <tbody>\n",
       "    <tr>\n",
       "      <th>age</th>\n",
       "      <td>1.000000</td>\n",
       "      <td>0.115547</td>\n",
       "      <td>0.029630</td>\n",
       "      <td>0.331909</td>\n",
       "    </tr>\n",
       "    <tr>\n",
       "      <th>bmi</th>\n",
       "      <td>0.115547</td>\n",
       "      <td>1.000000</td>\n",
       "      <td>0.025439</td>\n",
       "      <td>0.187547</td>\n",
       "    </tr>\n",
       "    <tr>\n",
       "      <th>children</th>\n",
       "      <td>0.029630</td>\n",
       "      <td>0.025439</td>\n",
       "      <td>1.000000</td>\n",
       "      <td>0.050799</td>\n",
       "    </tr>\n",
       "    <tr>\n",
       "      <th>charges</th>\n",
       "      <td>0.331909</td>\n",
       "      <td>0.187547</td>\n",
       "      <td>0.050799</td>\n",
       "      <td>1.000000</td>\n",
       "    </tr>\n",
       "  </tbody>\n",
       "</table>\n",
       "</div>"
      ],
      "text/plain": [
       "               age       bmi  children   charges\n",
       "age       1.000000  0.115547  0.029630  0.331909\n",
       "bmi       0.115547  1.000000  0.025439  0.187547\n",
       "children  0.029630  0.025439  1.000000  0.050799\n",
       "charges   0.331909  0.187547  0.050799  1.000000"
      ]
     },
     "execution_count": 12,
     "metadata": {},
     "output_type": "execute_result"
    }
   ],
   "source": [
    "data[quantitatives].corr()"
   ]
  },
  {
   "cell_type": "code",
   "execution_count": 13,
   "id": "d5e8b021",
   "metadata": {},
   "outputs": [
    {
     "data": {
      "text/plain": [
       "<AxesSubplot:>"
      ]
     },
     "execution_count": 13,
     "metadata": {},
     "output_type": "execute_result"
    },
    {
     "data": {
      "image/png": "[encoded data removed]",
      "text/plain": [
       "<Figure size 640x480 with 2 Axes>"
      ]
     },
     "metadata": {},
     "output_type": "display_data"
    }
   ],
   "source": [
    "#heatmap de cette matrice de corrélation\n",
    "sns.heatmap(data[quantitatives].corr(), annot=True)"
   ]
  },
  {
   "cell_type": "markdown",
   "id": "335bce45",
   "metadata": {},
   "source": [
    "##### Observation\n",
    "D'après le resultat obtenu, on peut constater qu'il n'y a pas trop de correlation entre les variables quantitatives. "
   ]
  },
  {
   "cell_type": "markdown",
   "id": "bc88ae29",
   "metadata": {},
   "source": [
    "### Convertir les variables qualitatives au format approprié pour la modélisation"
   ]
  },
  {
   "cell_type": "markdown",
   "id": "ba0a49ba",
   "metadata": {},
   "source": [
    "#### méthode du one-hot encoding"
   ]
  },
  {
   "cell_type": "code",
   "execution_count": 14,
   "id": "c0ce5377",
   "metadata": {},
   "outputs": [
    {
     "data": {
      "text/html": [
       "<div>\n",
       "<style scoped>\n",
       "    .dataframe tbody tr th:only-of-type {\n",
       "        vertical-align: middle;\n",
       "    }\n",
       "\n",
       "    .dataframe tbody tr th {\n",
       "        vertical-align: top;\n",
       "    }\n",
       "\n",
       "    .dataframe thead th {\n",
       "        text-align: right;\n",
       "    }\n",
       "</style>\n",
       "<table border=\"1\" class=\"dataframe\">\n",
       "  <thead>\n",
       "    <tr style=\"text-align: right;\">\n",
       "      <th></th>\n",
       "      <th>sex_female</th>\n",
       "      <th>sex_male</th>\n",
       "      <th>smoker_no</th>\n",
       "      <th>smoker_yes</th>\n",
       "      <th>region_northeast</th>\n",
       "      <th>region_northwest</th>\n",
       "      <th>region_southeast</th>\n",
       "      <th>region_southwest</th>\n",
       "    </tr>\n",
       "  </thead>\n",
       "  <tbody>\n",
       "    <tr>\n",
       "      <th>0</th>\n",
       "      <td>1.0</td>\n",
       "      <td>0.0</td>\n",
       "      <td>0.0</td>\n",
       "      <td>1.0</td>\n",
       "      <td>0.0</td>\n",
       "      <td>0.0</td>\n",
       "      <td>0.0</td>\n",
       "      <td>1.0</td>\n",
       "    </tr>\n",
       "    <tr>\n",
       "      <th>1</th>\n",
       "      <td>0.0</td>\n",
       "      <td>1.0</td>\n",
       "      <td>1.0</td>\n",
       "      <td>0.0</td>\n",
       "      <td>0.0</td>\n",
       "      <td>0.0</td>\n",
       "      <td>1.0</td>\n",
       "      <td>0.0</td>\n",
       "    </tr>\n",
       "    <tr>\n",
       "      <th>2</th>\n",
       "      <td>0.0</td>\n",
       "      <td>1.0</td>\n",
       "      <td>1.0</td>\n",
       "      <td>0.0</td>\n",
       "      <td>0.0</td>\n",
       "      <td>0.0</td>\n",
       "      <td>1.0</td>\n",
       "      <td>0.0</td>\n",
       "    </tr>\n",
       "    <tr>\n",
       "      <th>3</th>\n",
       "      <td>0.0</td>\n",
       "      <td>1.0</td>\n",
       "      <td>1.0</td>\n",
       "      <td>0.0</td>\n",
       "      <td>0.0</td>\n",
       "      <td>1.0</td>\n",
       "      <td>0.0</td>\n",
       "      <td>0.0</td>\n",
       "    </tr>\n",
       "    <tr>\n",
       "      <th>4</th>\n",
       "      <td>0.0</td>\n",
       "      <td>1.0</td>\n",
       "      <td>1.0</td>\n",
       "      <td>0.0</td>\n",
       "      <td>0.0</td>\n",
       "      <td>1.0</td>\n",
       "      <td>0.0</td>\n",
       "      <td>0.0</td>\n",
       "    </tr>\n",
       "  </tbody>\n",
       "</table>\n",
       "</div>"
      ],
      "text/plain": [
       "   sex_female  sex_male  smoker_no  smoker_yes  region_northeast  \\\n",
       "0         1.0       0.0        0.0         1.0               0.0   \n",
       "1         0.0       1.0        1.0         0.0               0.0   \n",
       "2         0.0       1.0        1.0         0.0               0.0   \n",
       "3         0.0       1.0        1.0         0.0               0.0   \n",
       "4         0.0       1.0        1.0         0.0               0.0   \n",
       "\n",
       "   region_northwest  region_southeast  region_southwest  \n",
       "0               0.0               0.0               1.0  \n",
       "1               0.0               1.0               0.0  \n",
       "2               0.0               1.0               0.0  \n",
       "3               1.0               0.0               0.0  \n",
       "4               1.0               0.0               0.0  "
      ]
     },
     "execution_count": 14,
     "metadata": {},
     "output_type": "execute_result"
    }
   ],
   "source": [
    "from sklearn.preprocessing import OneHotEncoder\n",
    "encoder = OneHotEncoder(sparse = False)\n",
    "data_encod = encoder.fit_transform(data[qualitatives])\n",
    "data_encod = pd.DataFrame(data_encod, columns=encoder.get_feature_names_out(qualitatives))\n",
    "data_encod.head()"
   ]
  },
  {
   "cell_type": "code",
   "execution_count": 15,
   "id": "99726ce9",
   "metadata": {},
   "outputs": [
    {
     "data": {
      "text/html": [
       "<div>\n",
       "<style scoped>\n",
       "    .dataframe tbody tr th:only-of-type {\n",
       "        vertical-align: middle;\n",
       "    }\n",
       "\n",
       "    .dataframe tbody tr th {\n",
       "        vertical-align: top;\n",
       "    }\n",
       "\n",
       "    .dataframe thead th {\n",
       "        text-align: right;\n",
       "    }\n",
       "</style>\n",
       "<table border=\"1\" class=\"dataframe\">\n",
       "  <thead>\n",
       "    <tr style=\"text-align: right;\">\n",
       "      <th></th>\n",
       "      <th>age</th>\n",
       "      <th>bmi</th>\n",
       "      <th>children</th>\n",
       "      <th>charges</th>\n",
       "      <th>sex_female</th>\n",
       "      <th>sex_male</th>\n",
       "      <th>smoker_no</th>\n",
       "      <th>smoker_yes</th>\n",
       "      <th>region_northeast</th>\n",
       "      <th>region_northwest</th>\n",
       "      <th>region_southeast</th>\n",
       "      <th>region_southwest</th>\n",
       "    </tr>\n",
       "  </thead>\n",
       "  <tbody>\n",
       "    <tr>\n",
       "      <th>0</th>\n",
       "      <td>19</td>\n",
       "      <td>27.900</td>\n",
       "      <td>0</td>\n",
       "      <td>16884.92400</td>\n",
       "      <td>1.0</td>\n",
       "      <td>0.0</td>\n",
       "      <td>0.0</td>\n",
       "      <td>1.0</td>\n",
       "      <td>0.0</td>\n",
       "      <td>0.0</td>\n",
       "      <td>0.0</td>\n",
       "      <td>1.0</td>\n",
       "    </tr>\n",
       "    <tr>\n",
       "      <th>1</th>\n",
       "      <td>18</td>\n",
       "      <td>33.770</td>\n",
       "      <td>1</td>\n",
       "      <td>1725.55230</td>\n",
       "      <td>0.0</td>\n",
       "      <td>1.0</td>\n",
       "      <td>1.0</td>\n",
       "      <td>0.0</td>\n",
       "      <td>0.0</td>\n",
       "      <td>0.0</td>\n",
       "      <td>1.0</td>\n",
       "      <td>0.0</td>\n",
       "    </tr>\n",
       "    <tr>\n",
       "      <th>2</th>\n",
       "      <td>28</td>\n",
       "      <td>33.000</td>\n",
       "      <td>3</td>\n",
       "      <td>4449.46200</td>\n",
       "      <td>0.0</td>\n",
       "      <td>1.0</td>\n",
       "      <td>1.0</td>\n",
       "      <td>0.0</td>\n",
       "      <td>0.0</td>\n",
       "      <td>0.0</td>\n",
       "      <td>1.0</td>\n",
       "      <td>0.0</td>\n",
       "    </tr>\n",
       "    <tr>\n",
       "      <th>3</th>\n",
       "      <td>33</td>\n",
       "      <td>22.705</td>\n",
       "      <td>0</td>\n",
       "      <td>21984.47061</td>\n",
       "      <td>0.0</td>\n",
       "      <td>1.0</td>\n",
       "      <td>1.0</td>\n",
       "      <td>0.0</td>\n",
       "      <td>0.0</td>\n",
       "      <td>1.0</td>\n",
       "      <td>0.0</td>\n",
       "      <td>0.0</td>\n",
       "    </tr>\n",
       "    <tr>\n",
       "      <th>4</th>\n",
       "      <td>32</td>\n",
       "      <td>28.880</td>\n",
       "      <td>0</td>\n",
       "      <td>3866.85520</td>\n",
       "      <td>0.0</td>\n",
       "      <td>1.0</td>\n",
       "      <td>1.0</td>\n",
       "      <td>0.0</td>\n",
       "      <td>0.0</td>\n",
       "      <td>1.0</td>\n",
       "      <td>0.0</td>\n",
       "      <td>0.0</td>\n",
       "    </tr>\n",
       "  </tbody>\n",
       "</table>\n",
       "</div>"
      ],
      "text/plain": [
       "   age     bmi  children      charges  sex_female  sex_male  smoker_no  \\\n",
       "0   19  27.900         0  16884.92400         1.0       0.0        0.0   \n",
       "1   18  33.770         1   1725.55230         0.0       1.0        1.0   \n",
       "2   28  33.000         3   4449.46200         0.0       1.0        1.0   \n",
       "3   33  22.705         0  21984.47061         0.0       1.0        1.0   \n",
       "4   32  28.880         0   3866.85520         0.0       1.0        1.0   \n",
       "\n",
       "   smoker_yes  region_northeast  region_northwest  region_southeast  \\\n",
       "0         1.0               0.0               0.0               0.0   \n",
       "1         0.0               0.0               0.0               1.0   \n",
       "2         0.0               0.0               0.0               1.0   \n",
       "3         0.0               0.0               1.0               0.0   \n",
       "4         0.0               0.0               1.0               0.0   \n",
       "\n",
       "   region_southwest  \n",
       "0               1.0  \n",
       "1               0.0  \n",
       "2               0.0  \n",
       "3               0.0  \n",
       "4               0.0  "
      ]
     },
     "execution_count": 15,
     "metadata": {},
     "output_type": "execute_result"
    }
   ],
   "source": [
    "dataset = data[quantitatives]\n",
    "dataset = dataset.join(data_encod)\n",
    "dataset.head()"
   ]
  },
  {
   "cell_type": "markdown",
   "id": "d834f1b3",
   "metadata": {},
   "source": [
    "#### méthode du maping"
   ]
  },
  {
   "cell_type": "code",
   "execution_count": 16,
   "id": "fc250624",
   "metadata": {},
   "outputs": [
    {
     "data": {
      "text/html": [
       "<div>\n",
       "<style scoped>\n",
       "    .dataframe tbody tr th:only-of-type {\n",
       "        vertical-align: middle;\n",
       "    }\n",
       "\n",
       "    .dataframe tbody tr th {\n",
       "        vertical-align: top;\n",
       "    }\n",
       "\n",
       "    .dataframe thead th {\n",
       "        text-align: right;\n",
       "    }\n",
       "</style>\n",
       "<table border=\"1\" class=\"dataframe\">\n",
       "  <thead>\n",
       "    <tr style=\"text-align: right;\">\n",
       "      <th></th>\n",
       "      <th>age</th>\n",
       "      <th>sex</th>\n",
       "      <th>bmi</th>\n",
       "      <th>children</th>\n",
       "      <th>smoker</th>\n",
       "      <th>region</th>\n",
       "      <th>charges</th>\n",
       "    </tr>\n",
       "  </thead>\n",
       "  <tbody>\n",
       "    <tr>\n",
       "      <th>0</th>\n",
       "      <td>19</td>\n",
       "      <td>0</td>\n",
       "      <td>27.900</td>\n",
       "      <td>0</td>\n",
       "      <td>1</td>\n",
       "      <td>3</td>\n",
       "      <td>16884.92400</td>\n",
       "    </tr>\n",
       "    <tr>\n",
       "      <th>1</th>\n",
       "      <td>18</td>\n",
       "      <td>1</td>\n",
       "      <td>33.770</td>\n",
       "      <td>1</td>\n",
       "      <td>0</td>\n",
       "      <td>2</td>\n",
       "      <td>1725.55230</td>\n",
       "    </tr>\n",
       "    <tr>\n",
       "      <th>2</th>\n",
       "      <td>28</td>\n",
       "      <td>1</td>\n",
       "      <td>33.000</td>\n",
       "      <td>3</td>\n",
       "      <td>0</td>\n",
       "      <td>2</td>\n",
       "      <td>4449.46200</td>\n",
       "    </tr>\n",
       "    <tr>\n",
       "      <th>3</th>\n",
       "      <td>33</td>\n",
       "      <td>1</td>\n",
       "      <td>22.705</td>\n",
       "      <td>0</td>\n",
       "      <td>0</td>\n",
       "      <td>1</td>\n",
       "      <td>21984.47061</td>\n",
       "    </tr>\n",
       "    <tr>\n",
       "      <th>4</th>\n",
       "      <td>32</td>\n",
       "      <td>1</td>\n",
       "      <td>28.880</td>\n",
       "      <td>0</td>\n",
       "      <td>0</td>\n",
       "      <td>1</td>\n",
       "      <td>3866.85520</td>\n",
       "    </tr>\n",
       "  </tbody>\n",
       "</table>\n",
       "</div>"
      ],
      "text/plain": [
       "   age  sex     bmi  children  smoker  region      charges\n",
       "0   19    0  27.900         0       1       3  16884.92400\n",
       "1   18    1  33.770         1       0       2   1725.55230\n",
       "2   28    1  33.000         3       0       2   4449.46200\n",
       "3   33    1  22.705         0       0       1  21984.47061\n",
       "4   32    1  28.880         0       0       1   3866.85520"
      ]
     },
     "execution_count": 16,
     "metadata": {},
     "output_type": "execute_result"
    }
   ],
   "source": [
    "df = data\n",
    "df['sex'] = df['sex'].map({'female': 0, 'male': 1})\n",
    "df['region']= df['region'].map({'northeast': 0, 'northwest': 1, 'southeast': 2, 'southwest': 3})\n",
    "df['smoker']= df['smoker'].map({'yes': 1, 'no': 0})\n",
    "df.head()"
   ]
  },
  {
   "cell_type": "markdown",
   "id": "e60f29b0",
   "metadata": {},
   "source": [
    "### Division de la base de données en échantillon d’apprentissage (80%) et en échantillon test (20%)"
   ]
  },
  {
   "cell_type": "markdown",
   "id": "79fc81e2",
   "metadata": {},
   "source": [
    "#### Séparation des variables explicatives de la variable cible"
   ]
  },
  {
   "cell_type": "code",
   "execution_count": 17,
   "id": "3879521b",
   "metadata": {},
   "outputs": [],
   "source": [
    "from sklearn.model_selection import train_test_split\n",
    "x = dataset.drop(columns=\"charges\")\n",
    "y = dataset[\"charges\"]"
   ]
  },
  {
   "cell_type": "code",
   "execution_count": 18,
   "id": "2ef12fcd",
   "metadata": {},
   "outputs": [],
   "source": [
    "#Division du dataset avec la méthode train_test_split\n",
    "x_train, x_test, y_train, y_test = sklearn.model_selection.train_test_split(x, y, test_size=0.2, random_state = 42)"
   ]
  },
  {
   "cell_type": "code",
   "execution_count": 19,
   "id": "6e3f0452",
   "metadata": {},
   "outputs": [
    {
     "data": {
      "text/plain": [
       "(     age     bmi  children  sex_female  sex_male  smoker_no  smoker_yes  \\\n",
       " 29    31  36.300         2         0.0       1.0        0.0         1.0   \n",
       " 535   38  28.025         1         0.0       1.0        1.0         0.0   \n",
       " 695   26  40.185         0         1.0       0.0        1.0         0.0   \n",
       " 557   34  34.210         0         0.0       1.0        1.0         0.0   \n",
       " 836   36  31.500         0         0.0       1.0        1.0         0.0   \n",
       " ..   ...     ...       ...         ...       ...        ...         ...   \n",
       " 106   19  28.400         1         1.0       0.0        1.0         0.0   \n",
       " 270   18  29.370         1         0.0       1.0        1.0         0.0   \n",
       " 860   37  47.600         2         1.0       0.0        0.0         1.0   \n",
       " 435   60  33.110         3         0.0       1.0        1.0         0.0   \n",
       " 102   18  30.115         0         1.0       0.0        1.0         0.0   \n",
       " \n",
       "      region_northeast  region_northwest  region_southeast  region_southwest  \n",
       " 29                0.0               0.0               0.0               1.0  \n",
       " 535               1.0               0.0               0.0               0.0  \n",
       " 695               0.0               1.0               0.0               0.0  \n",
       " 557               0.0               0.0               1.0               0.0  \n",
       " 836               0.0               0.0               0.0               1.0  \n",
       " ..                ...               ...               ...               ...  \n",
       " 106               0.0               0.0               0.0               1.0  \n",
       " 270               0.0               0.0               1.0               0.0  \n",
       " 860               0.0               0.0               0.0               1.0  \n",
       " 435               0.0               0.0               1.0               0.0  \n",
       " 102               1.0               0.0               0.0               0.0  \n",
       " \n",
       " [800 rows x 11 columns],\n",
       " 29     38711.00000\n",
       " 535     6067.12675\n",
       " 695     3201.24515\n",
       " 557     3935.17990\n",
       " 836     4402.23300\n",
       "           ...     \n",
       " 106     2331.51900\n",
       " 270     1719.43630\n",
       " 860    46113.51100\n",
       " 435    13919.82290\n",
       " 102    21344.84670\n",
       " Name: charges, Length: 800, dtype: float64)"
      ]
     },
     "execution_count": 19,
     "metadata": {},
     "output_type": "execute_result"
    }
   ],
   "source": [
    "x_train, y_train"
   ]
  },
  {
   "cell_type": "code",
   "execution_count": 20,
   "id": "21c70f2d",
   "metadata": {},
   "outputs": [],
   "source": [
    "#Normalisons d'abord les variables\n",
    "from sklearn.preprocessing import StandardScaler\n",
    "scaler = StandardScaler()\n",
    "x_train = scaler.fit_transform(x_train)\n",
    "x_test = scaler.transform(x_test)"
   ]
  },
  {
   "cell_type": "code",
   "execution_count": 21,
   "id": "6ee803c5",
   "metadata": {},
   "outputs": [
    {
     "name": "stdout",
     "output_type": "stream",
     "text": [
      "moyenne : 14365.539126849997\n"
     ]
    }
   ],
   "source": [
    "#la moyenne de la variable test cible\n",
    "moy = np.mean(y_test)\n",
    "print (\"moyenne : \" + str(moy))"
   ]
  },
  {
   "cell_type": "markdown",
   "id": "26017c9b",
   "metadata": {},
   "source": [
    "### Construction d'un premier modèle M0 à partir des paramètres par défaut de l’algorithme"
   ]
  },
  {
   "cell_type": "code",
   "execution_count": 22,
   "id": "0b221221",
   "metadata": {},
   "outputs": [
    {
     "name": "stdout",
     "output_type": "stream",
     "text": [
      "rmse : 6129.269261758573\n",
      "r2 : 0.8076401865004499\n",
      "we have also :\n",
      "rmse : 4362.081853474398\n",
      "r2 : 0.8539900596221373\n",
      "none\n"
     ]
    }
   ],
   "source": [
    "from sklearn.neighbors import KNeighborsRegressor\n",
    "from sklearn.metrics import mean_squared_error\n",
    "from sklearn.metrics import r2_score\n",
    "#Le modèle M0\n",
    "M0 = KNeighborsRegressor()\n",
    "#entrainement sur les données d'apprentissage\n",
    "M0.fit(x_train, y_train)\n",
    "#prediction sur les données tests\n",
    "y_predict = M0.predict(x_test)\n",
    "#evaluation du modèle\n",
    "mse = mean_squared_error(y_test, y_predict)\n",
    "rmse = np.sqrt(mse)\n",
    "r2 = r2_score(y_test, y_predict)\n",
    "print(\"rmse : \" + str(rmse))\n",
    "print(\"r2 : \" + str(r2))\n",
    "\n",
    "y_predict0 = M0.predict(x_train)\n",
    "mse0 = mean_squared_error(y_train, y_predict0)\n",
    "rmse0 = np.sqrt(mse0)\n",
    "r20 = r2_score(y_train, y_predict0)\n",
    "print(\"we have also :\")\n",
    "print(\"rmse : \" + str(rmse0))\n",
    "print(\"r2 : \" + str(r20))\n",
    "if (r20>r2) and (r20-r2>0.1) :\n",
    "    print(\"overfitting\")\n",
    "else :\n",
    "    print(\"none\")"
   ]
  },
  {
   "cell_type": "markdown",
   "id": "79e83840",
   "metadata": {},
   "source": [
    "### Modifier le paramètre K pour construire trois autres modèles M1, M2 et M3"
   ]
  },
  {
   "cell_type": "markdown",
   "id": "bb690ae3",
   "metadata": {},
   "source": [
    "#### - Pour K= 3"
   ]
  },
  {
   "cell_type": "code",
   "execution_count": 23,
   "id": "c88d93ed",
   "metadata": {},
   "outputs": [
    {
     "name": "stdout",
     "output_type": "stream",
     "text": [
      "rmse : 6046.873782880984\n",
      "r2 : 0.8127771924647753\n",
      "we have also :\n",
      "rmse : 3922.4726831909697\n",
      "r2 : 0.8819367707977713\n",
      "none\n"
     ]
    }
   ],
   "source": [
    "#Le modèle M1\n",
    "M1 = KNeighborsRegressor(n_neighbors=3)\n",
    "#entrainement sur les données d'apprentissage\n",
    "M1.fit(x_train, y_train)\n",
    "#prediction sur les données tests\n",
    "y_predict1 = M1.predict(x_test)\n",
    "#evaluation du modèle\n",
    "mse1 = mean_squared_error(y_test, y_predict1)\n",
    "rmse1 = np.sqrt(mse1)\n",
    "r21 = r2_score(y_test, y_predict1)\n",
    "print(\"rmse : \" + str(rmse1))\n",
    "print(\"r2 : \" + str(r21))\n",
    "\n",
    "y_predict1_1 = M1.predict(x_train)\n",
    "mse1_1 = mean_squared_error(y_train, y_predict1_1)\n",
    "rmse1_1 = np.sqrt(mse1_1)\n",
    "r21_1 = r2_score(y_train, y_predict1_1)\n",
    "print(\"we have also :\")\n",
    "print(\"rmse : \" + str(rmse1_1))\n",
    "print(\"r2 : \" + str(r21_1))\n",
    "if (r21_1>r21) and (r21_1-r21>0.1) :\n",
    "    print(\"overfitting\")\n",
    "else :\n",
    "    print(\"none\")"
   ]
  },
  {
   "cell_type": "markdown",
   "id": "6fd0dcae",
   "metadata": {},
   "source": [
    "#### - Pour K=7"
   ]
  },
  {
   "cell_type": "code",
   "execution_count": 24,
   "id": "91f1d7de",
   "metadata": {},
   "outputs": [
    {
     "name": "stdout",
     "output_type": "stream",
     "text": [
      "rmse : 6189.965758770262\n",
      "r2 : 0.8038115484244645\n",
      "we have also :\n",
      "rmse : 4685.666307715148\n",
      "r2 : 0.831524204453717\n",
      "none\n"
     ]
    }
   ],
   "source": [
    "#Le modèle M2\n",
    "M2 = KNeighborsRegressor(n_neighbors=7)\n",
    "#entrainement sur les données d'apprentissage\n",
    "M2.fit(x_train, y_train)\n",
    "#prediction sur les données tests\n",
    "y_predict2 = M2.predict(x_test)\n",
    "#evaluation du modèle\n",
    "mse2 = mean_squared_error(y_test, y_predict2)\n",
    "rmse2 = np.sqrt(mse2)\n",
    "r22 = r2_score(y_test, y_predict2)\n",
    "print(\"rmse : \" + str(rmse2))\n",
    "print(\"r2 : \" + str(r22))\n",
    "\n",
    "y_predict2_1 = M2.predict(x_train)\n",
    "mse2_1 = mean_squared_error(y_train, y_predict2_1)\n",
    "rmse2_1 = np.sqrt(mse2_1)\n",
    "r22_1 = r2_score(y_train, y_predict2_1)\n",
    "print(\"we have also :\")\n",
    "print(\"rmse : \" + str(rmse2_1))\n",
    "print(\"r2 : \" + str(r22_1))\n",
    "if (r22_1>r22) and (r22_1-r22>0.1) :\n",
    "    print(\"overfitting\")\n",
    "else :\n",
    "    print(\"none\")"
   ]
  },
  {
   "cell_type": "markdown",
   "id": "deb8883e",
   "metadata": {},
   "source": [
    "#### - Pour K=10"
   ]
  },
  {
   "cell_type": "code",
   "execution_count": 25,
   "id": "df4ef47b",
   "metadata": {},
   "outputs": [
    {
     "name": "stdout",
     "output_type": "stream",
     "text": [
      "rmse : 6336.468718584485\n",
      "r2 : 0.7944149467746737\n",
      "we have also :\n",
      "rmse : 5087.545093763395\n",
      "r2 : 0.8013853197716359\n",
      "none\n"
     ]
    }
   ],
   "source": [
    "#Le modèle M3\n",
    "M3 = KNeighborsRegressor(n_neighbors=10)\n",
    "#entrainement sur les données d'apprentissage\n",
    "M3.fit(x_train, y_train)\n",
    "#prediction sur les données tests\n",
    "y_predict3 = M3.predict(x_test)\n",
    "#evaluation du modèle\n",
    "mse3 = mean_squared_error(y_test, y_predict3)\n",
    "rmse3 = np.sqrt(mse3)\n",
    "r23 = r2_score(y_test, y_predict3)\n",
    "print(\"rmse : \" + str(rmse3))\n",
    "print(\"r2 : \" + str(r23))\n",
    "\n",
    "y_predict3_1 = M3.predict(x_train)\n",
    "mse3_1 = mean_squared_error(y_train, y_predict3_1)\n",
    "rmse3_1 = np.sqrt(mse3_1)\n",
    "r23_1 = r2_score(y_train, y_predict3_1)\n",
    "print(\"we have also :\")\n",
    "print(\"rmse : \" + str(rmse3_1))\n",
    "print(\"r2 : \" + str(r23_1))\n",
    "if (r23_1>r23) and (r23_1-r23>0.1) :\n",
    "    print(\"overfitting\")\n",
    "else :\n",
    "    print(\"none\")"
   ]
  },
  {
   "cell_type": "markdown",
   "id": "fdeb41a3",
   "metadata": {},
   "source": [
    "### Evaluation des performances de chacun de ces modèles"
   ]
  },
  {
   "cell_type": "code",
   "execution_count": 26,
   "id": "57dd9821",
   "metadata": {},
   "outputs": [
    {
     "name": "stdout",
     "output_type": "stream",
     "text": [
      "  Modele         rmse   r2score\n",
      "0     M0  6129.269262  0.807640\n",
      "1     M1  6046.873783  0.812777\n",
      "2     M2  6189.965759  0.803812\n",
      "3     M3  6336.468719  0.794415\n"
     ]
    }
   ],
   "source": [
    "#Les erreurs pour évaluer les rmse (c'est pour voir un truc)\n",
    "#er = (rmse/moy)\n",
    "#er1 = (rmse1/moy)\n",
    "#er2 = (rmse2/moy)\n",
    "#er3 = (rmse3/moy)\n",
    "\n",
    "performances =pd.DataFrame({\n",
    "    'Modele' : ['M0', 'M1', 'M2', 'M3'], \n",
    "    'rmse' : [rmse, rmse1, rmse2, rmse3], \n",
    "    'r2score' : [r2, r21, r22, r23],\n",
    "})\n",
    "print(performances)"
   ]
  },
  {
   "cell_type": "code",
   "execution_count": 27,
   "id": "92dfdc86",
   "metadata": {},
   "outputs": [
    {
     "name": "stdout",
     "output_type": "stream",
     "text": [
      "{'algorithm': 'ball_tree', 'p': 2, 'weights': 'distance'}\n"
     ]
    }
   ],
   "source": [
    "from sklearn.model_selection import GridSearchCV\n",
    "#Definition des hyperparamètres à tester\n",
    "param_grid = {\n",
    "    'weights': ['uniform', 'distance'],\n",
    "    'p': [1, 2],\n",
    "    'algorithm': ['ball_tree', 'kd_tree', 'brute', 'auto']\n",
    "}\n",
    "#Recherche des meilleurs hyperparamètres avec GridSearchCV\n",
    "gridsearch = GridSearchCV(M3, param_grid, cv=5, scoring = 'r2')\n",
    "gridsearch.fit(x_train, y_train)\n",
    "#le meilleur parametre \n",
    "best_parametre = gridsearch.best_params_\n",
    "print(best_parametre)"
   ]
  },
  {
   "cell_type": "code",
   "execution_count": 28,
   "id": "63f304f1",
   "metadata": {},
   "outputs": [
    {
     "name": "stdout",
     "output_type": "stream",
     "text": [
      "rmse : 6055.239543824586\n",
      "r2_best : 0.8122587941131612\n",
      "With have also :\n",
      "rmse : 571.5508761137357\n",
      "r2_best : 0.9974932871246528\n",
      "overfitting\n"
     ]
    }
   ],
   "source": [
    "best_parametre = KNeighborsRegressor(n_neighbors=10, weights='distance', algorithm='ball_tree', p=2)\n",
    "#Entrainement du modele avec le meilleur parametre\n",
    "best_parametre.fit(x_train, y_train)\n",
    "#Evaluation de ce modèle\n",
    "y_best_predict = best_parametre.predict(x_test)\n",
    "#Donc\n",
    "mse_best = mean_squared_error(y_test, y_best_predict)\n",
    "rmse_best = np.sqrt(mse_best)\n",
    "r2_best = r2_score(y_test, y_best_predict)\n",
    "print(\"rmse : \" + str(rmse_best))\n",
    "print(\"r2_best : \" + str(r2_best))\n",
    "\n",
    "y_best_predict_2=best_parametre.predict(x_train)\n",
    "mse_best_2=mean_squared_error(y_train, y_best_predict_2)\n",
    "rmse_best_2=np.sqrt(mse_best_2)\n",
    "r2_best_2=r2_score(y_train, y_best_predict_2)\n",
    "print(\"With have also :\")\n",
    "print(\"rmse : \" + str(rmse_best_2))\n",
    "print(\"r2_best : \" + str(r2_best_2))\n",
    "if (r2_best_2>r2_best) and (r2_best_2-r2_best>0.1) :\n",
    "    print(\"overfitting\")\n",
    "else :\n",
    "    print(\"none\")"
   ]
  },
  {
   "cell_type": "markdown",
   "id": "297ea45b",
   "metadata": {},
   "source": [
    "##### Comparaison au modele par défaut genre M0"
   ]
  },
  {
   "cell_type": "code",
   "execution_count": 29,
   "id": "c5bc267c",
   "metadata": {},
   "outputs": [
    {
     "name": "stdout",
     "output_type": "stream",
     "text": [
      "  Modele         rmse   r2score\n",
      "0     M0  6129.269262  0.807640\n",
      "1  Mbest  6055.239544  0.812259\n"
     ]
    }
   ],
   "source": [
    "perform = pd.DataFrame({\n",
    "    'Modele' : ['M0', 'Mbest'], \n",
    "    'rmse' : [rmse, rmse_best], \n",
    "    'r2score' : [r2, r2_best],\n",
    "})\n",
    "print(perform)\n",
    "#"
   ]
  },
  {
   "cell_type": "markdown",
   "id": "448c8e65",
   "metadata": {},
   "source": [
    "### Représentation d'un nuage de points qui nous permettra de visualiser la relation entre les valeurs réelles et les valeurs prédites"
   ]
  },
  {
   "cell_type": "code",
   "execution_count": 30,
   "id": "31cf5e14",
   "metadata": {},
   "outputs": [
    {
     "data": {
      "image/png": "[encoded data removed]",
      "text/plain": [
       "<Figure size 800x600 with 1 Axes>"
      ]
     },
     "metadata": {},
     "output_type": "display_data"
    }
   ],
   "source": [
    "# Créer un DataFrame avec les valeurs réelles et prédites\n",
    "results = pd.DataFrame({'Valeurs réelles': y_test, 'Valeurs prédites': y_predict1})\n",
    "\n",
    "# Tracer le nuage de points\n",
    "plt.figure(figsize=(8, 6))\n",
    "plt.scatter(results['Valeurs réelles'], results['Valeurs prédites'], alpha=0.5)\n",
    "plt.plot([results['Valeurs réelles'].min(), results['Valeurs réelles'].max()],\n",
    "         [results['Valeurs réelles'].min(), results['Valeurs réelles'].max()],\n",
    "         color='red', linestyle='--')\n",
    "\n",
    "# Ajouter les labels et le titre\n",
    "plt.xlabel('Valeurs réelles')\n",
    "plt.ylabel('Valeurs prédites')\n",
    "plt.title('Relation entre les valeurs réelles et les valeurs prédites')\n",
    "plt.show()"
   ]
  },
  {
   "cell_type": "markdown",
   "id": "3911d0ed",
   "metadata": {},
   "source": [
    "###  Une analyse des résidus issus du meilleur modèle: nuage de points entre les valeurs prédites et les résidus issus du modèle"
   ]
  },
  {
   "cell_type": "code",
   "execution_count": 31,
   "id": "f9d681eb",
   "metadata": {},
   "outputs": [
    {
     "data": {
      "image/png": "[encoded data removed]",
      "text/plain": [
       "<Figure size 800x600 with 1 Axes>"
      ]
     },
     "metadata": {},
     "output_type": "display_data"
    }
   ],
   "source": [
    "# Calculer les résidus\n",
    "residuals = y_test - y_predict1\n",
    "\n",
    "# Créer un DataFrame avec les valeurs prédites et les résidus\n",
    "results = pd.DataFrame({'Valeurs prédites': y_predict1, 'Résidus': residuals})\n",
    "\n",
    "# Tracer le nuage de points des valeurs prédites contre les résidus\n",
    "plt.figure(figsize=(8, 6))\n",
    "plt.scatter(results['Valeurs prédites'], results['Résidus'], alpha=0.5)\n",
    "plt.axhline(y=0, color='red', linestyle='--')\n",
    "\n",
    "# Ajouter les labels et le titre\n",
    "plt.xlabel('Valeurs prédites')\n",
    "plt.ylabel('Résidus')\n",
    "plt.title('Nuage de points des valeurs prédites contre les résidus')\n",
    "plt.show()"
   ]
  },
  {
   "cell_type": "markdown",
   "id": "c5474681",
   "metadata": {},
   "source": [
    "### Utilisation du modèle optimal pour prédire sur la nouvelle vague de clients voulant souscrit à une assurance maladie dans la compagnie X (feuille PREDICT)"
   ]
  },
  {
   "cell_type": "code",
   "execution_count": 32,
   "id": "add3b87b",
   "metadata": {},
   "outputs": [
    {
     "data": {
      "text/html": [
       "<div>\n",
       "<style scoped>\n",
       "    .dataframe tbody tr th:only-of-type {\n",
       "        vertical-align: middle;\n",
       "    }\n",
       "\n",
       "    .dataframe tbody tr th {\n",
       "        vertical-align: top;\n",
       "    }\n",
       "\n",
       "    .dataframe thead th {\n",
       "        text-align: right;\n",
       "    }\n",
       "</style>\n",
       "<table border=\"1\" class=\"dataframe\">\n",
       "  <thead>\n",
       "    <tr style=\"text-align: right;\">\n",
       "      <th></th>\n",
       "      <th>age</th>\n",
       "      <th>sex</th>\n",
       "      <th>bmi</th>\n",
       "      <th>children</th>\n",
       "      <th>smoker</th>\n",
       "      <th>region</th>\n",
       "      <th>a</th>\n",
       "    </tr>\n",
       "  </thead>\n",
       "  <tbody>\n",
       "    <tr>\n",
       "      <th>0</th>\n",
       "      <td>36</td>\n",
       "      <td>female</td>\n",
       "      <td>26.885</td>\n",
       "      <td>0</td>\n",
       "      <td>no</td>\n",
       "      <td>northwest</td>\n",
       "      <td>NaN</td>\n",
       "    </tr>\n",
       "    <tr>\n",
       "      <th>1</th>\n",
       "      <td>30</td>\n",
       "      <td>male</td>\n",
       "      <td>22.990</td>\n",
       "      <td>2</td>\n",
       "      <td>yes</td>\n",
       "      <td>northwest</td>\n",
       "      <td>NaN</td>\n",
       "    </tr>\n",
       "    <tr>\n",
       "      <th>2</th>\n",
       "      <td>24</td>\n",
       "      <td>male</td>\n",
       "      <td>32.700</td>\n",
       "      <td>0</td>\n",
       "      <td>yes</td>\n",
       "      <td>southwest</td>\n",
       "      <td>NaN</td>\n",
       "    </tr>\n",
       "    <tr>\n",
       "      <th>3</th>\n",
       "      <td>24</td>\n",
       "      <td>male</td>\n",
       "      <td>25.800</td>\n",
       "      <td>0</td>\n",
       "      <td>no</td>\n",
       "      <td>southwest</td>\n",
       "      <td>NaN</td>\n",
       "    </tr>\n",
       "    <tr>\n",
       "      <th>4</th>\n",
       "      <td>48</td>\n",
       "      <td>male</td>\n",
       "      <td>29.600</td>\n",
       "      <td>0</td>\n",
       "      <td>no</td>\n",
       "      <td>southwest</td>\n",
       "      <td>NaN</td>\n",
       "    </tr>\n",
       "  </tbody>\n",
       "</table>\n",
       "</div>"
      ],
      "text/plain": [
       "   age     sex     bmi  children smoker     region  a \n",
       "0   36  female  26.885         0     no  northwest NaN\n",
       "1   30    male  22.990         2    yes  northwest NaN\n",
       "2   24    male  32.700         0    yes  southwest NaN\n",
       "3   24    male  25.800         0     no  southwest NaN\n",
       "4   48    male  29.600         0     no  southwest NaN"
      ]
     },
     "execution_count": 32,
     "metadata": {},
     "output_type": "execute_result"
    }
   ],
   "source": [
    "sheet = pd.read_excel('C:/Users/Miguel/Downloads/Insurance-data.xlsx', sheet_name = 1)\n",
    "sheet.head()"
   ]
  },
  {
   "cell_type": "code",
   "execution_count": 33,
   "id": "ce897308",
   "metadata": {},
   "outputs": [
    {
     "data": {
      "text/html": [
       "<div>\n",
       "<style scoped>\n",
       "    .dataframe tbody tr th:only-of-type {\n",
       "        vertical-align: middle;\n",
       "    }\n",
       "\n",
       "    .dataframe tbody tr th {\n",
       "        vertical-align: top;\n",
       "    }\n",
       "\n",
       "    .dataframe thead th {\n",
       "        text-align: right;\n",
       "    }\n",
       "</style>\n",
       "<table border=\"1\" class=\"dataframe\">\n",
       "  <thead>\n",
       "    <tr style=\"text-align: right;\">\n",
       "      <th></th>\n",
       "      <th>age</th>\n",
       "      <th>sex</th>\n",
       "      <th>bmi</th>\n",
       "      <th>children</th>\n",
       "      <th>smoker</th>\n",
       "      <th>region</th>\n",
       "    </tr>\n",
       "  </thead>\n",
       "  <tbody>\n",
       "    <tr>\n",
       "      <th>0</th>\n",
       "      <td>36</td>\n",
       "      <td>female</td>\n",
       "      <td>26.885</td>\n",
       "      <td>0</td>\n",
       "      <td>no</td>\n",
       "      <td>northwest</td>\n",
       "    </tr>\n",
       "    <tr>\n",
       "      <th>1</th>\n",
       "      <td>30</td>\n",
       "      <td>male</td>\n",
       "      <td>22.990</td>\n",
       "      <td>2</td>\n",
       "      <td>yes</td>\n",
       "      <td>northwest</td>\n",
       "    </tr>\n",
       "    <tr>\n",
       "      <th>2</th>\n",
       "      <td>24</td>\n",
       "      <td>male</td>\n",
       "      <td>32.700</td>\n",
       "      <td>0</td>\n",
       "      <td>yes</td>\n",
       "      <td>southwest</td>\n",
       "    </tr>\n",
       "    <tr>\n",
       "      <th>3</th>\n",
       "      <td>24</td>\n",
       "      <td>male</td>\n",
       "      <td>25.800</td>\n",
       "      <td>0</td>\n",
       "      <td>no</td>\n",
       "      <td>southwest</td>\n",
       "    </tr>\n",
       "    <tr>\n",
       "      <th>4</th>\n",
       "      <td>48</td>\n",
       "      <td>male</td>\n",
       "      <td>29.600</td>\n",
       "      <td>0</td>\n",
       "      <td>no</td>\n",
       "      <td>southwest</td>\n",
       "    </tr>\n",
       "  </tbody>\n",
       "</table>\n",
       "</div>"
      ],
      "text/plain": [
       "   age     sex     bmi  children smoker     region\n",
       "0   36  female  26.885         0     no  northwest\n",
       "1   30    male  22.990         2    yes  northwest\n",
       "2   24    male  32.700         0    yes  southwest\n",
       "3   24    male  25.800         0     no  southwest\n",
       "4   48    male  29.600         0     no  southwest"
      ]
     },
     "execution_count": 33,
     "metadata": {},
     "output_type": "execute_result"
    }
   ],
   "source": [
    "liste = ['age', 'sex', 'bmi', 'children', 'smoker', 'region']\n",
    "sheet = sheet[liste]\n",
    "sheet.head()"
   ]
  },
  {
   "cell_type": "code",
   "execution_count": 34,
   "id": "3380e870",
   "metadata": {},
   "outputs": [
    {
     "name": "stdout",
     "output_type": "stream",
     "text": [
      "<class 'pandas.core.frame.DataFrame'>\n",
      "RangeIndex: 338 entries, 0 to 337\n",
      "Data columns (total 6 columns):\n",
      " #   Column    Non-Null Count  Dtype  \n",
      "---  ------    --------------  -----  \n",
      " 0   age       338 non-null    int64  \n",
      " 1   sex       338 non-null    object \n",
      " 2   bmi       338 non-null    float64\n",
      " 3   children  338 non-null    int64  \n",
      " 4   smoker    338 non-null    object \n",
      " 5   region    338 non-null    object \n",
      "dtypes: float64(1), int64(2), object(3)\n",
      "memory usage: 16.0+ KB\n"
     ]
    }
   ],
   "source": [
    "sheet.info()"
   ]
  },
  {
   "cell_type": "code",
   "execution_count": 35,
   "id": "485647a9",
   "metadata": {},
   "outputs": [
    {
     "data": {
      "text/html": [
       "<div>\n",
       "<style scoped>\n",
       "    .dataframe tbody tr th:only-of-type {\n",
       "        vertical-align: middle;\n",
       "    }\n",
       "\n",
       "    .dataframe tbody tr th {\n",
       "        vertical-align: top;\n",
       "    }\n",
       "\n",
       "    .dataframe thead th {\n",
       "        text-align: right;\n",
       "    }\n",
       "</style>\n",
       "<table border=\"1\" class=\"dataframe\">\n",
       "  <thead>\n",
       "    <tr style=\"text-align: right;\">\n",
       "      <th></th>\n",
       "      <th>age</th>\n",
       "      <th>bmi</th>\n",
       "      <th>children</th>\n",
       "    </tr>\n",
       "  </thead>\n",
       "  <tbody>\n",
       "    <tr>\n",
       "      <th>count</th>\n",
       "      <td>338.000000</td>\n",
       "      <td>338.000000</td>\n",
       "      <td>338.000000</td>\n",
       "    </tr>\n",
       "    <tr>\n",
       "      <th>mean</th>\n",
       "      <td>37.926036</td>\n",
       "      <td>30.065266</td>\n",
       "      <td>1.139053</td>\n",
       "    </tr>\n",
       "    <tr>\n",
       "      <th>std</th>\n",
       "      <td>13.630037</td>\n",
       "      <td>6.219539</td>\n",
       "      <td>1.225913</td>\n",
       "    </tr>\n",
       "    <tr>\n",
       "      <th>min</th>\n",
       "      <td>18.000000</td>\n",
       "      <td>16.815000</td>\n",
       "      <td>0.000000</td>\n",
       "    </tr>\n",
       "    <tr>\n",
       "      <th>25%</th>\n",
       "      <td>25.000000</td>\n",
       "      <td>25.741250</td>\n",
       "      <td>0.000000</td>\n",
       "    </tr>\n",
       "    <tr>\n",
       "      <th>50%</th>\n",
       "      <td>38.000000</td>\n",
       "      <td>29.925000</td>\n",
       "      <td>1.000000</td>\n",
       "    </tr>\n",
       "    <tr>\n",
       "      <th>75%</th>\n",
       "      <td>49.750000</td>\n",
       "      <td>33.752500</td>\n",
       "      <td>2.000000</td>\n",
       "    </tr>\n",
       "    <tr>\n",
       "      <th>max</th>\n",
       "      <td>64.000000</td>\n",
       "      <td>53.130000</td>\n",
       "      <td>5.000000</td>\n",
       "    </tr>\n",
       "  </tbody>\n",
       "</table>\n",
       "</div>"
      ],
      "text/plain": [
       "              age         bmi    children\n",
       "count  338.000000  338.000000  338.000000\n",
       "mean    37.926036   30.065266    1.139053\n",
       "std     13.630037    6.219539    1.225913\n",
       "min     18.000000   16.815000    0.000000\n",
       "25%     25.000000   25.741250    0.000000\n",
       "50%     38.000000   29.925000    1.000000\n",
       "75%     49.750000   33.752500    2.000000\n",
       "max     64.000000   53.130000    5.000000"
      ]
     },
     "execution_count": 35,
     "metadata": {},
     "output_type": "execute_result"
    }
   ],
   "source": [
    "quantitative = ['age', 'bmi', 'children']\n",
    "sheet[quantitative].describe()"
   ]
  },
  {
   "cell_type": "code",
   "execution_count": 36,
   "id": "41344dce",
   "metadata": {},
   "outputs": [
    {
     "data": {
      "text/html": [
       "<div>\n",
       "<style scoped>\n",
       "    .dataframe tbody tr th:only-of-type {\n",
       "        vertical-align: middle;\n",
       "    }\n",
       "\n",
       "    .dataframe tbody tr th {\n",
       "        vertical-align: top;\n",
       "    }\n",
       "\n",
       "    .dataframe thead th {\n",
       "        text-align: right;\n",
       "    }\n",
       "</style>\n",
       "<table border=\"1\" class=\"dataframe\">\n",
       "  <thead>\n",
       "    <tr style=\"text-align: right;\">\n",
       "      <th></th>\n",
       "      <th>sex</th>\n",
       "      <th>smoker</th>\n",
       "      <th>region</th>\n",
       "    </tr>\n",
       "  </thead>\n",
       "  <tbody>\n",
       "    <tr>\n",
       "      <th>count</th>\n",
       "      <td>338</td>\n",
       "      <td>338</td>\n",
       "      <td>338</td>\n",
       "    </tr>\n",
       "    <tr>\n",
       "      <th>unique</th>\n",
       "      <td>2</td>\n",
       "      <td>2</td>\n",
       "      <td>4</td>\n",
       "    </tr>\n",
       "    <tr>\n",
       "      <th>top</th>\n",
       "      <td>male</td>\n",
       "      <td>no</td>\n",
       "      <td>northwest</td>\n",
       "    </tr>\n",
       "    <tr>\n",
       "      <th>freq</th>\n",
       "      <td>171</td>\n",
       "      <td>261</td>\n",
       "      <td>94</td>\n",
       "    </tr>\n",
       "  </tbody>\n",
       "</table>\n",
       "</div>"
      ],
      "text/plain": [
       "         sex smoker     region\n",
       "count    338    338        338\n",
       "unique     2      2          4\n",
       "top     male     no  northwest\n",
       "freq     171    261         94"
      ]
     },
     "execution_count": 36,
     "metadata": {},
     "output_type": "execute_result"
    }
   ],
   "source": [
    "sheet[qualitatives].describe()"
   ]
  },
  {
   "cell_type": "code",
   "execution_count": 37,
   "id": "2cf42ea6",
   "metadata": {},
   "outputs": [
    {
     "data": {
      "text/html": [
       "<div>\n",
       "<style scoped>\n",
       "    .dataframe tbody tr th:only-of-type {\n",
       "        vertical-align: middle;\n",
       "    }\n",
       "\n",
       "    .dataframe tbody tr th {\n",
       "        vertical-align: top;\n",
       "    }\n",
       "\n",
       "    .dataframe thead th {\n",
       "        text-align: right;\n",
       "    }\n",
       "</style>\n",
       "<table border=\"1\" class=\"dataframe\">\n",
       "  <thead>\n",
       "    <tr style=\"text-align: right;\">\n",
       "      <th></th>\n",
       "      <th>sex_female</th>\n",
       "      <th>sex_male</th>\n",
       "      <th>smoker_no</th>\n",
       "      <th>smoker_yes</th>\n",
       "      <th>region_northeast</th>\n",
       "      <th>region_northwest</th>\n",
       "      <th>region_southeast</th>\n",
       "      <th>region_southwest</th>\n",
       "    </tr>\n",
       "  </thead>\n",
       "  <tbody>\n",
       "    <tr>\n",
       "      <th>0</th>\n",
       "      <td>1.0</td>\n",
       "      <td>0.0</td>\n",
       "      <td>1.0</td>\n",
       "      <td>0.0</td>\n",
       "      <td>0.0</td>\n",
       "      <td>1.0</td>\n",
       "      <td>0.0</td>\n",
       "      <td>0.0</td>\n",
       "    </tr>\n",
       "    <tr>\n",
       "      <th>1</th>\n",
       "      <td>0.0</td>\n",
       "      <td>1.0</td>\n",
       "      <td>0.0</td>\n",
       "      <td>1.0</td>\n",
       "      <td>0.0</td>\n",
       "      <td>1.0</td>\n",
       "      <td>0.0</td>\n",
       "      <td>0.0</td>\n",
       "    </tr>\n",
       "    <tr>\n",
       "      <th>2</th>\n",
       "      <td>0.0</td>\n",
       "      <td>1.0</td>\n",
       "      <td>0.0</td>\n",
       "      <td>1.0</td>\n",
       "      <td>0.0</td>\n",
       "      <td>0.0</td>\n",
       "      <td>0.0</td>\n",
       "      <td>1.0</td>\n",
       "    </tr>\n",
       "    <tr>\n",
       "      <th>3</th>\n",
       "      <td>0.0</td>\n",
       "      <td>1.0</td>\n",
       "      <td>1.0</td>\n",
       "      <td>0.0</td>\n",
       "      <td>0.0</td>\n",
       "      <td>0.0</td>\n",
       "      <td>0.0</td>\n",
       "      <td>1.0</td>\n",
       "    </tr>\n",
       "    <tr>\n",
       "      <th>4</th>\n",
       "      <td>0.0</td>\n",
       "      <td>1.0</td>\n",
       "      <td>1.0</td>\n",
       "      <td>0.0</td>\n",
       "      <td>0.0</td>\n",
       "      <td>0.0</td>\n",
       "      <td>0.0</td>\n",
       "      <td>1.0</td>\n",
       "    </tr>\n",
       "  </tbody>\n",
       "</table>\n",
       "</div>"
      ],
      "text/plain": [
       "   sex_female  sex_male  smoker_no  smoker_yes  region_northeast  \\\n",
       "0         1.0       0.0        1.0         0.0               0.0   \n",
       "1         0.0       1.0        0.0         1.0               0.0   \n",
       "2         0.0       1.0        0.0         1.0               0.0   \n",
       "3         0.0       1.0        1.0         0.0               0.0   \n",
       "4         0.0       1.0        1.0         0.0               0.0   \n",
       "\n",
       "   region_northwest  region_southeast  region_southwest  \n",
       "0               1.0               0.0               0.0  \n",
       "1               1.0               0.0               0.0  \n",
       "2               0.0               0.0               1.0  \n",
       "3               0.0               0.0               1.0  \n",
       "4               0.0               0.0               1.0  "
      ]
     },
     "execution_count": 37,
     "metadata": {},
     "output_type": "execute_result"
    }
   ],
   "source": [
    "#Passons à l'encodage des valeurs qualitatives\n",
    "sheet_encod = encoder.fit_transform(sheet[qualitatives])\n",
    "sheet_encod = pd.DataFrame(sheet_encod, columns=encoder.get_feature_names_out(qualitatives))\n",
    "sheet_encod.head()"
   ]
  },
  {
   "cell_type": "code",
   "execution_count": 38,
   "id": "ec570103",
   "metadata": {},
   "outputs": [
    {
     "data": {
      "text/html": [
       "<div>\n",
       "<style scoped>\n",
       "    .dataframe tbody tr th:only-of-type {\n",
       "        vertical-align: middle;\n",
       "    }\n",
       "\n",
       "    .dataframe tbody tr th {\n",
       "        vertical-align: top;\n",
       "    }\n",
       "\n",
       "    .dataframe thead th {\n",
       "        text-align: right;\n",
       "    }\n",
       "</style>\n",
       "<table border=\"1\" class=\"dataframe\">\n",
       "  <thead>\n",
       "    <tr style=\"text-align: right;\">\n",
       "      <th></th>\n",
       "      <th>age</th>\n",
       "      <th>bmi</th>\n",
       "      <th>children</th>\n",
       "      <th>sex_female</th>\n",
       "      <th>sex_male</th>\n",
       "      <th>smoker_no</th>\n",
       "      <th>smoker_yes</th>\n",
       "      <th>region_northeast</th>\n",
       "      <th>region_northwest</th>\n",
       "      <th>region_southeast</th>\n",
       "      <th>region_southwest</th>\n",
       "    </tr>\n",
       "  </thead>\n",
       "  <tbody>\n",
       "    <tr>\n",
       "      <th>0</th>\n",
       "      <td>36</td>\n",
       "      <td>26.885</td>\n",
       "      <td>0</td>\n",
       "      <td>1.0</td>\n",
       "      <td>0.0</td>\n",
       "      <td>1.0</td>\n",
       "      <td>0.0</td>\n",
       "      <td>0.0</td>\n",
       "      <td>1.0</td>\n",
       "      <td>0.0</td>\n",
       "      <td>0.0</td>\n",
       "    </tr>\n",
       "    <tr>\n",
       "      <th>1</th>\n",
       "      <td>30</td>\n",
       "      <td>22.990</td>\n",
       "      <td>2</td>\n",
       "      <td>0.0</td>\n",
       "      <td>1.0</td>\n",
       "      <td>0.0</td>\n",
       "      <td>1.0</td>\n",
       "      <td>0.0</td>\n",
       "      <td>1.0</td>\n",
       "      <td>0.0</td>\n",
       "      <td>0.0</td>\n",
       "    </tr>\n",
       "    <tr>\n",
       "      <th>2</th>\n",
       "      <td>24</td>\n",
       "      <td>32.700</td>\n",
       "      <td>0</td>\n",
       "      <td>0.0</td>\n",
       "      <td>1.0</td>\n",
       "      <td>0.0</td>\n",
       "      <td>1.0</td>\n",
       "      <td>0.0</td>\n",
       "      <td>0.0</td>\n",
       "      <td>0.0</td>\n",
       "      <td>1.0</td>\n",
       "    </tr>\n",
       "    <tr>\n",
       "      <th>3</th>\n",
       "      <td>24</td>\n",
       "      <td>25.800</td>\n",
       "      <td>0</td>\n",
       "      <td>0.0</td>\n",
       "      <td>1.0</td>\n",
       "      <td>1.0</td>\n",
       "      <td>0.0</td>\n",
       "      <td>0.0</td>\n",
       "      <td>0.0</td>\n",
       "      <td>0.0</td>\n",
       "      <td>1.0</td>\n",
       "    </tr>\n",
       "    <tr>\n",
       "      <th>4</th>\n",
       "      <td>48</td>\n",
       "      <td>29.600</td>\n",
       "      <td>0</td>\n",
       "      <td>0.0</td>\n",
       "      <td>1.0</td>\n",
       "      <td>1.0</td>\n",
       "      <td>0.0</td>\n",
       "      <td>0.0</td>\n",
       "      <td>0.0</td>\n",
       "      <td>0.0</td>\n",
       "      <td>1.0</td>\n",
       "    </tr>\n",
       "  </tbody>\n",
       "</table>\n",
       "</div>"
      ],
      "text/plain": [
       "   age     bmi  children  sex_female  sex_male  smoker_no  smoker_yes  \\\n",
       "0   36  26.885         0         1.0       0.0        1.0         0.0   \n",
       "1   30  22.990         2         0.0       1.0        0.0         1.0   \n",
       "2   24  32.700         0         0.0       1.0        0.0         1.0   \n",
       "3   24  25.800         0         0.0       1.0        1.0         0.0   \n",
       "4   48  29.600         0         0.0       1.0        1.0         0.0   \n",
       "\n",
       "   region_northeast  region_northwest  region_southeast  region_southwest  \n",
       "0               0.0               1.0               0.0               0.0  \n",
       "1               0.0               1.0               0.0               0.0  \n",
       "2               0.0               0.0               0.0               1.0  \n",
       "3               0.0               0.0               0.0               1.0  \n",
       "4               0.0               0.0               0.0               1.0  "
      ]
     },
     "execution_count": 38,
     "metadata": {},
     "output_type": "execute_result"
    }
   ],
   "source": [
    "sheet = sheet[quantitative].join(sheet_encod)\n",
    "sheet.head()"
   ]
  },
  {
   "cell_type": "code",
   "execution_count": 39,
   "id": "0bfb3b7d",
   "metadata": {},
   "outputs": [],
   "source": [
    "#Normalisons\n",
    "x_sheet = scaler.fit_transform(sheet)"
   ]
  },
  {
   "cell_type": "code",
   "execution_count": 40,
   "id": "c6a15152",
   "metadata": {},
   "outputs": [
    {
     "data": {
      "text/html": [
       "<div>\n",
       "<style scoped>\n",
       "    .dataframe tbody tr th:only-of-type {\n",
       "        vertical-align: middle;\n",
       "    }\n",
       "\n",
       "    .dataframe tbody tr th {\n",
       "        vertical-align: top;\n",
       "    }\n",
       "\n",
       "    .dataframe thead th {\n",
       "        text-align: right;\n",
       "    }\n",
       "</style>\n",
       "<table border=\"1\" class=\"dataframe\">\n",
       "  <thead>\n",
       "    <tr style=\"text-align: right;\">\n",
       "      <th></th>\n",
       "      <th>age</th>\n",
       "      <th>bmi</th>\n",
       "      <th>children</th>\n",
       "      <th>sex_female</th>\n",
       "      <th>sex_male</th>\n",
       "      <th>smoker_no</th>\n",
       "      <th>smoker_yes</th>\n",
       "      <th>region_northeast</th>\n",
       "      <th>region_northwest</th>\n",
       "      <th>region_southeast</th>\n",
       "      <th>region_southwest</th>\n",
       "      <th>charges</th>\n",
       "    </tr>\n",
       "  </thead>\n",
       "  <tbody>\n",
       "    <tr>\n",
       "      <th>0</th>\n",
       "      <td>36</td>\n",
       "      <td>26.885</td>\n",
       "      <td>0</td>\n",
       "      <td>1.0</td>\n",
       "      <td>0.0</td>\n",
       "      <td>1.0</td>\n",
       "      <td>0.0</td>\n",
       "      <td>0.0</td>\n",
       "      <td>1.0</td>\n",
       "      <td>0.0</td>\n",
       "      <td>0.0</td>\n",
       "      <td>5986.006433</td>\n",
       "    </tr>\n",
       "    <tr>\n",
       "      <th>1</th>\n",
       "      <td>30</td>\n",
       "      <td>22.990</td>\n",
       "      <td>2</td>\n",
       "      <td>0.0</td>\n",
       "      <td>1.0</td>\n",
       "      <td>0.0</td>\n",
       "      <td>1.0</td>\n",
       "      <td>0.0</td>\n",
       "      <td>1.0</td>\n",
       "      <td>0.0</td>\n",
       "      <td>0.0</td>\n",
       "      <td>20618.058933</td>\n",
       "    </tr>\n",
       "    <tr>\n",
       "      <th>2</th>\n",
       "      <td>24</td>\n",
       "      <td>32.700</td>\n",
       "      <td>0</td>\n",
       "      <td>0.0</td>\n",
       "      <td>1.0</td>\n",
       "      <td>0.0</td>\n",
       "      <td>1.0</td>\n",
       "      <td>0.0</td>\n",
       "      <td>0.0</td>\n",
       "      <td>0.0</td>\n",
       "      <td>1.0</td>\n",
       "      <td>35938.260333</td>\n",
       "    </tr>\n",
       "    <tr>\n",
       "      <th>3</th>\n",
       "      <td>24</td>\n",
       "      <td>25.800</td>\n",
       "      <td>0</td>\n",
       "      <td>0.0</td>\n",
       "      <td>1.0</td>\n",
       "      <td>1.0</td>\n",
       "      <td>0.0</td>\n",
       "      <td>0.0</td>\n",
       "      <td>0.0</td>\n",
       "      <td>0.0</td>\n",
       "      <td>1.0</td>\n",
       "      <td>2032.104333</td>\n",
       "    </tr>\n",
       "    <tr>\n",
       "      <th>4</th>\n",
       "      <td>48</td>\n",
       "      <td>29.600</td>\n",
       "      <td>0</td>\n",
       "      <td>0.0</td>\n",
       "      <td>1.0</td>\n",
       "      <td>1.0</td>\n",
       "      <td>0.0</td>\n",
       "      <td>0.0</td>\n",
       "      <td>0.0</td>\n",
       "      <td>0.0</td>\n",
       "      <td>1.0</td>\n",
       "      <td>9682.040000</td>\n",
       "    </tr>\n",
       "  </tbody>\n",
       "</table>\n",
       "</div>"
      ],
      "text/plain": [
       "   age     bmi  children  sex_female  sex_male  smoker_no  smoker_yes  \\\n",
       "0   36  26.885         0         1.0       0.0        1.0         0.0   \n",
       "1   30  22.990         2         0.0       1.0        0.0         1.0   \n",
       "2   24  32.700         0         0.0       1.0        0.0         1.0   \n",
       "3   24  25.800         0         0.0       1.0        1.0         0.0   \n",
       "4   48  29.600         0         0.0       1.0        1.0         0.0   \n",
       "\n",
       "   region_northeast  region_northwest  region_southeast  region_southwest  \\\n",
       "0               0.0               1.0               0.0               0.0   \n",
       "1               0.0               1.0               0.0               0.0   \n",
       "2               0.0               0.0               0.0               1.0   \n",
       "3               0.0               0.0               0.0               1.0   \n",
       "4               0.0               0.0               0.0               1.0   \n",
       "\n",
       "        charges  \n",
       "0   5986.006433  \n",
       "1  20618.058933  \n",
       "2  35938.260333  \n",
       "3   2032.104333  \n",
       "4   9682.040000  "
      ]
     },
     "execution_count": 40,
     "metadata": {},
     "output_type": "execute_result"
    }
   ],
   "source": [
    "y_sheet_predict = M1.predict(x_sheet)\n",
    "sheet['charges'] = y_sheet_predict\n",
    "sheet.head()"
   ]
  },
  {
   "cell_type": "markdown",
   "id": "f22b879e",
   "metadata": {},
   "source": [
    "## Partie 2 : Autres modèles d’apprentissage supervisé"
   ]
  },
  {
   "cell_type": "code",
   "execution_count": 41,
   "id": "cf47b661",
   "metadata": {},
   "outputs": [
    {
     "name": "stdout",
     "output_type": "stream",
     "text": [
      "{'max_depth': 3, 'min_samples_split': 10, 'n_estimators': 100}\n",
      "{'C': 100, 'epsilon': 0.01, 'gamma': 'scale', 'kernel': 'linear'}\n"
     ]
    }
   ],
   "source": [
    "#Les modeles choisis sont le Lineair Regression, le Random Forest Regression et le SVR\n",
    "from sklearn.linear_model import LinearRegression\n",
    "from sklearn.ensemble import RandomForestRegressor\n",
    "from sklearn.svm import SVR\n",
    "#Initialisation de ces modeles\n",
    "linear_model = LinearRegression()\n",
    "random_forest_model = RandomForestRegressor()\n",
    "svr_model = SVR()\n",
    "#Parametre grids pour le randomforestregressor\n",
    "param_grid1 = {\n",
    "    'n_estimators': [50, 100, 200],\n",
    "        'max_depth': [3, 5, 10],\n",
    "        'min_samples_split': [2, 5, 10]\n",
    "}\n",
    "#Parametre grids pour le SVR\n",
    "param_grid2 = {\n",
    "    'kernel': ['linear', 'poly', 'rbf', 'sigmoid'],\n",
    "    'C': [0.1, 1, 10, 100],\n",
    "    'epsilon': [0.01, 0.1, 1],\n",
    "    'gamma': ['scale', 'auto']\n",
    "}\n",
    "#Recherche des meilleurs hyperparamètres avec GridSearchCV\n",
    "##Pour le randomforest\n",
    "gridsearch_rf = GridSearchCV(random_forest_model, param_grid1, cv=5)\n",
    "gridsearch_rf.fit(x_train, y_train)\n",
    "#le meilleur parametre \n",
    "best_parametre_rf = gridsearch_rf.best_params_\n",
    "print(best_parametre_rf)\n",
    "##Pour le SVR\n",
    "gridsearch_svr = GridSearchCV(svr_model, param_grid2, cv=5)\n",
    "gridsearch_svr.fit(x_train, y_train)\n",
    "#le meilleur parametre \n",
    "best_parametre_svr = gridsearch_svr.best_params_\n",
    "print(best_parametre_svr)"
   ]
  },
  {
   "cell_type": "code",
   "execution_count": 42,
   "id": "15d6dd61",
   "metadata": {},
   "outputs": [],
   "source": [
    "best_parametre_rf = RandomForestRegressor(\n",
    "    n_estimators=50,\n",
    "    min_samples_split=10,\n",
    "    max_depth=5\n",
    ")\n",
    "best_parametre_svr = SVR(\n",
    "    C=100,\n",
    "    epsilon=0.01,\n",
    "    gamma='scale',\n",
    "    kernel='linear'\n",
    ")\n",
    "#Entrainement des modeles\n",
    "linear_model.fit(x_train, y_train)\n",
    "best_parametre_rf.fit(x_train, y_train)\n",
    "best_parametre_svr.fit(x_train, y_train)\n",
    "#Evaluation de ces modeles là\n",
    "##lineairregression\n",
    "y_pre1 = linear_model.predict(x_test)\n",
    "mse_1 = mean_squared_error(y_test, y_pre1)\n",
    "rmse_1 = np.sqrt(mse_1)\n",
    "r2_1 = r2_score(y_test, y_pre1)\n",
    "##randomforest\n",
    "y_pre2 = best_parametre_rf.predict(x_test)\n",
    "mse_2 = mean_squared_error(y_test, y_pre2)\n",
    "rmse_2 = np.sqrt(mse_2)\n",
    "r2_2 = r2_score(y_test, y_pre2)\n",
    "##svr\n",
    "y_pre3 = best_parametre_svr.predict(x_test)\n",
    "mse_3 = mean_squared_error(y_test, y_pre3)\n",
    "rmse_3 = np.sqrt(mse_3)\n",
    "r2_3 = r2_score(y_test, y_pre3)"
   ]
  },
  {
   "cell_type": "code",
   "execution_count": 43,
   "id": "eaa19bff",
   "metadata": {},
   "outputs": [
    {
     "name": "stdout",
     "output_type": "stream",
     "text": [
      "              Modele         RMSE  R2_Score\n",
      "0  lineairRegression  6158.822080  0.805781\n",
      "1       RandomForest  4590.479701  0.892102\n",
      "2                SVR  8607.090809  0.620677\n"
     ]
    }
   ],
   "source": [
    "#Création d'un dataframe pour avoir une bonne vue sur les erreurs calculés de chaque modele\n",
    "predict_modele = pd.DataFrame({\n",
    "    \"Modele\": ['lineairRegression', 'RandomForest', 'SVR'],\n",
    "    \"RMSE\" : [rmse_1, rmse_2, rmse_3],\n",
    "    \"R2_Score\" : [r2_1, r2_2, r2_3]\n",
    "})\n",
    "print(predict_modele)"
   ]
  },
  {
   "cell_type": "code",
   "execution_count": 44,
   "id": "abc00018",
   "metadata": {},
   "outputs": [
    {
     "data": {
      "text/plain": [
       "['M1.joblib']"
      ]
     },
     "execution_count": 44,
     "metadata": {},
     "output_type": "execute_result"
    }
   ],
   "source": [
    "import joblib\n",
    "joblib_file = \"M1.joblib\"\n",
    "joblib.dump(M1, joblib_file)"
   ]
  },
  {
   "cell_type": "code",
   "execution_count": null,
   "id": "ae0dedab",
   "metadata": {},
   "outputs": [],
   "source": []
  },
  {
   "cell_type": "code",
   "execution_count": null,
   "id": "ca92129c",
   "metadata": {},
   "outputs": [],
   "source": []
  },
  {
   "cell_type": "code",
   "execution_count": null,
   "id": "9c7099c6",
   "metadata": {},
   "outputs": [],
   "source": []
  },
  {
   "cell_type": "code",
   "execution_count": null,
   "id": "034be873",
   "metadata": {},
   "outputs": [],
   "source": []
  }
 ],
 "metadata": {
  "kernelspec": {
   "display_name": "Python 3 (ipykernel)",
   "language": "python",
   "name": "python3"
  },
  "language_info": {
   "codemirror_mode": {
    "name": "ipython",
    "version": 3
   },
   "file_extension": ".py",
   "mimetype": "text/x-python",
   "name": "python",
   "nbconvert_exporter": "python",
   "pygments_lexer": "ipython3",
   "version": "3.9.13"
  }
 },
 "nbformat": 4,
 "nbformat_minor": 5
}
